{
 "cells": [
  {
   "cell_type": "code",
   "execution_count": 1,
   "id": "59269a9e",
   "metadata": {
    "scrolled": true
   },
   "outputs": [
    {
     "data": {
      "text/html": [
       "<div>\n",
       "<style scoped>\n",
       "    .dataframe tbody tr th:only-of-type {\n",
       "        vertical-align: middle;\n",
       "    }\n",
       "\n",
       "    .dataframe tbody tr th {\n",
       "        vertical-align: top;\n",
       "    }\n",
       "\n",
       "    .dataframe thead th {\n",
       "        text-align: right;\n",
       "    }\n",
       "</style>\n",
       "<table border=\"1\" class=\"dataframe\">\n",
       "  <thead>\n",
       "    <tr style=\"text-align: right;\">\n",
       "      <th></th>\n",
       "      <th>Id</th>\n",
       "      <th>MSSubClass</th>\n",
       "      <th>MSZoning</th>\n",
       "      <th>LotFrontage</th>\n",
       "      <th>LotArea</th>\n",
       "      <th>Street</th>\n",
       "      <th>Alley</th>\n",
       "      <th>LotShape</th>\n",
       "      <th>LandContour</th>\n",
       "      <th>Utilities</th>\n",
       "      <th>...</th>\n",
       "      <th>PoolArea</th>\n",
       "      <th>PoolQC</th>\n",
       "      <th>Fence</th>\n",
       "      <th>MiscFeature</th>\n",
       "      <th>MiscVal</th>\n",
       "      <th>MoSold</th>\n",
       "      <th>YrSold</th>\n",
       "      <th>SaleType</th>\n",
       "      <th>SaleCondition</th>\n",
       "      <th>SalePrice</th>\n",
       "    </tr>\n",
       "  </thead>\n",
       "  <tbody>\n",
       "    <tr>\n",
       "      <th>0</th>\n",
       "      <td>1</td>\n",
       "      <td>60</td>\n",
       "      <td>RL</td>\n",
       "      <td>65.0</td>\n",
       "      <td>8450</td>\n",
       "      <td>Pave</td>\n",
       "      <td>NaN</td>\n",
       "      <td>Reg</td>\n",
       "      <td>Lvl</td>\n",
       "      <td>AllPub</td>\n",
       "      <td>...</td>\n",
       "      <td>0</td>\n",
       "      <td>NaN</td>\n",
       "      <td>NaN</td>\n",
       "      <td>NaN</td>\n",
       "      <td>0</td>\n",
       "      <td>2</td>\n",
       "      <td>2008</td>\n",
       "      <td>WD</td>\n",
       "      <td>Normal</td>\n",
       "      <td>208500</td>\n",
       "    </tr>\n",
       "    <tr>\n",
       "      <th>1</th>\n",
       "      <td>2</td>\n",
       "      <td>20</td>\n",
       "      <td>RL</td>\n",
       "      <td>80.0</td>\n",
       "      <td>9600</td>\n",
       "      <td>Pave</td>\n",
       "      <td>NaN</td>\n",
       "      <td>Reg</td>\n",
       "      <td>Lvl</td>\n",
       "      <td>AllPub</td>\n",
       "      <td>...</td>\n",
       "      <td>0</td>\n",
       "      <td>NaN</td>\n",
       "      <td>NaN</td>\n",
       "      <td>NaN</td>\n",
       "      <td>0</td>\n",
       "      <td>5</td>\n",
       "      <td>2007</td>\n",
       "      <td>WD</td>\n",
       "      <td>Normal</td>\n",
       "      <td>181500</td>\n",
       "    </tr>\n",
       "    <tr>\n",
       "      <th>2</th>\n",
       "      <td>3</td>\n",
       "      <td>60</td>\n",
       "      <td>RL</td>\n",
       "      <td>68.0</td>\n",
       "      <td>11250</td>\n",
       "      <td>Pave</td>\n",
       "      <td>NaN</td>\n",
       "      <td>IR1</td>\n",
       "      <td>Lvl</td>\n",
       "      <td>AllPub</td>\n",
       "      <td>...</td>\n",
       "      <td>0</td>\n",
       "      <td>NaN</td>\n",
       "      <td>NaN</td>\n",
       "      <td>NaN</td>\n",
       "      <td>0</td>\n",
       "      <td>9</td>\n",
       "      <td>2008</td>\n",
       "      <td>WD</td>\n",
       "      <td>Normal</td>\n",
       "      <td>223500</td>\n",
       "    </tr>\n",
       "    <tr>\n",
       "      <th>3</th>\n",
       "      <td>4</td>\n",
       "      <td>70</td>\n",
       "      <td>RL</td>\n",
       "      <td>60.0</td>\n",
       "      <td>9550</td>\n",
       "      <td>Pave</td>\n",
       "      <td>NaN</td>\n",
       "      <td>IR1</td>\n",
       "      <td>Lvl</td>\n",
       "      <td>AllPub</td>\n",
       "      <td>...</td>\n",
       "      <td>0</td>\n",
       "      <td>NaN</td>\n",
       "      <td>NaN</td>\n",
       "      <td>NaN</td>\n",
       "      <td>0</td>\n",
       "      <td>2</td>\n",
       "      <td>2006</td>\n",
       "      <td>WD</td>\n",
       "      <td>Abnorml</td>\n",
       "      <td>140000</td>\n",
       "    </tr>\n",
       "    <tr>\n",
       "      <th>4</th>\n",
       "      <td>5</td>\n",
       "      <td>60</td>\n",
       "      <td>RL</td>\n",
       "      <td>84.0</td>\n",
       "      <td>14260</td>\n",
       "      <td>Pave</td>\n",
       "      <td>NaN</td>\n",
       "      <td>IR1</td>\n",
       "      <td>Lvl</td>\n",
       "      <td>AllPub</td>\n",
       "      <td>...</td>\n",
       "      <td>0</td>\n",
       "      <td>NaN</td>\n",
       "      <td>NaN</td>\n",
       "      <td>NaN</td>\n",
       "      <td>0</td>\n",
       "      <td>12</td>\n",
       "      <td>2008</td>\n",
       "      <td>WD</td>\n",
       "      <td>Normal</td>\n",
       "      <td>250000</td>\n",
       "    </tr>\n",
       "  </tbody>\n",
       "</table>\n",
       "<p>5 rows × 81 columns</p>\n",
       "</div>"
      ],
      "text/plain": [
       "   Id  MSSubClass MSZoning  LotFrontage  LotArea Street Alley LotShape  \\\n",
       "0   1          60       RL         65.0     8450   Pave   NaN      Reg   \n",
       "1   2          20       RL         80.0     9600   Pave   NaN      Reg   \n",
       "2   3          60       RL         68.0    11250   Pave   NaN      IR1   \n",
       "3   4          70       RL         60.0     9550   Pave   NaN      IR1   \n",
       "4   5          60       RL         84.0    14260   Pave   NaN      IR1   \n",
       "\n",
       "  LandContour Utilities  ... PoolArea PoolQC Fence MiscFeature MiscVal MoSold  \\\n",
       "0         Lvl    AllPub  ...        0    NaN   NaN         NaN       0      2   \n",
       "1         Lvl    AllPub  ...        0    NaN   NaN         NaN       0      5   \n",
       "2         Lvl    AllPub  ...        0    NaN   NaN         NaN       0      9   \n",
       "3         Lvl    AllPub  ...        0    NaN   NaN         NaN       0      2   \n",
       "4         Lvl    AllPub  ...        0    NaN   NaN         NaN       0     12   \n",
       "\n",
       "  YrSold  SaleType  SaleCondition  SalePrice  \n",
       "0   2008        WD         Normal     208500  \n",
       "1   2007        WD         Normal     181500  \n",
       "2   2008        WD         Normal     223500  \n",
       "3   2006        WD        Abnorml     140000  \n",
       "4   2008        WD         Normal     250000  \n",
       "\n",
       "[5 rows x 81 columns]"
      ]
     },
     "execution_count": 1,
     "metadata": {},
     "output_type": "execute_result"
    }
   ],
   "source": [
    "# importing necessary libraries\n",
    "import numpy as np\n",
    "import pandas as pd\n",
    "import matplotlib.pyplot as plt\n",
    "\n",
    "# loading house price data\n",
    "hse_df = pd.read_csv(r\"C:\\Users\\HP 820 G3\\Documents\\solar_data\\housing_data_full.csv\")\n",
    "hse_df.head()"
   ]
  },
  {
   "cell_type": "code",
   "execution_count": 2,
   "id": "9dd4c862",
   "metadata": {},
   "outputs": [
    {
     "data": {
      "text/plain": [
       "(1460, 81)"
      ]
     },
     "execution_count": 2,
     "metadata": {},
     "output_type": "execute_result"
    }
   ],
   "source": [
    "# checking the dataframe shape\n",
    "hse_df.shape"
   ]
  },
  {
   "cell_type": "code",
   "execution_count": 18,
   "id": "c89d6aea",
   "metadata": {},
   "outputs": [
    {
     "name": "stdout",
     "output_type": "stream",
     "text": [
      "<class 'pandas.core.frame.DataFrame'>\n",
      "Index: 1338 entries, 0 to 1459\n",
      "Data columns (total 34 columns):\n",
      " #   Column        Non-Null Count  Dtype  \n",
      "---  ------        --------------  -----  \n",
      " 0   MSSubClass    1338 non-null   int64  \n",
      " 1   LotArea       1338 non-null   int64  \n",
      " 2   LotConfig     1338 non-null   int32  \n",
      " 3   Neighborhood  1338 non-null   int32  \n",
      " 4   HouseStyle    1338 non-null   int32  \n",
      " 5   OverallQual   1338 non-null   int64  \n",
      " 6   OverallCond   1338 non-null   int64  \n",
      " 7   YearBuilt     1338 non-null   int64  \n",
      " 8   YearRemodAdd  1338 non-null   int64  \n",
      " 9   RoofStyle     1338 non-null   int32  \n",
      " 10  Exterior1st   1338 non-null   int32  \n",
      " 11  Exterior2nd   1338 non-null   int32  \n",
      " 12  ExterQual     1338 non-null   int32  \n",
      " 13  BsmtQual      1338 non-null   int32  \n",
      " 14  BsmtFinType1  1338 non-null   int32  \n",
      " 15  BsmtFinSF1    1338 non-null   int64  \n",
      " 16  TotalBsmtSF   1338 non-null   int64  \n",
      " 17  HeatingQC     1338 non-null   int32  \n",
      " 18  1stFlrSF      1338 non-null   int64  \n",
      " 19  2ndFlrSF      1338 non-null   int64  \n",
      " 20  GrLivArea     1338 non-null   int64  \n",
      " 21  BsmtFullBath  1338 non-null   int64  \n",
      " 22  FullBath      1338 non-null   int64  \n",
      " 23  HalfBath      1338 non-null   int64  \n",
      " 24  BedroomAbvGr  1338 non-null   int64  \n",
      " 25  TotRmsAbvGrd  1338 non-null   int64  \n",
      " 26  GarageType    1338 non-null   int32  \n",
      " 27  GarageYrBlt   1338 non-null   float64\n",
      " 28  GarageFinish  1338 non-null   int32  \n",
      " 29  GarageCars    1338 non-null   int64  \n",
      " 30  GarageArea    1338 non-null   int64  \n",
      " 31  GarageQual    1338 non-null   int32  \n",
      " 32  GarageCond    1338 non-null   int32  \n",
      " 33  SalePrice     1338 non-null   int64  \n",
      "dtypes: float64(1), int32(14), int64(19)\n",
      "memory usage: 292.7 KB\n"
     ]
    }
   ],
   "source": [
    "# checking the columns info\n",
    "hse_df.info()"
   ]
  },
  {
   "cell_type": "code",
   "execution_count": 4,
   "id": "9fa47346",
   "metadata": {},
   "outputs": [],
   "source": [
    "# dropping columns with missing data greater than 15%\n",
    "for col in hse_df.columns:\n",
    "    if hse_df[col].isna().sum() > (0.15 * hse_df.shape[0]):\n",
    "        hse_df.drop(col, axis=1, inplace=True)"
   ]
  },
  {
   "cell_type": "code",
   "execution_count": 5,
   "id": "f3e6eb46",
   "metadata": {},
   "outputs": [],
   "source": [
    "hse_df.dropna(inplace=True)"
   ]
  },
  {
   "cell_type": "code",
   "execution_count": null,
   "id": "06b68b7a",
   "metadata": {},
   "outputs": [],
   "source": [
    "# generating a profile report of the data...this helps us have a quick check\n",
    "# on the data e.g distribution, correlation e.t.c\n",
    "from  ydata_profiling import ProfileReport\n",
    "\n",
    "report = ProfileReport(hse_df)\n",
    "report.to_file(r\"C:\\Users\\HP 820 G3\\Documents\\solar_data\\hse_df.html\")"
   ]
  },
  {
   "cell_type": "code",
   "execution_count": 6,
   "id": "5bd04f42",
   "metadata": {},
   "outputs": [],
   "source": [
    "# from the profile report there are columns with zero correlation, all zeros, ones or constants which we will drop\n",
    "\n",
    "drop_cols = ['Id', 'CentralAir', 'Electrical', 'LowQualFinSF', \n",
    "             'BsmtHalfBath', 'KitchenAbvGr', 'KitchenQual',\n",
    "             'Functional', 'Fireplaces', 'PavedDrive', 'WoodDeckSF',\n",
    "             'OpenPorchSF', 'EnclosedPorch', '3SsnPorch', 'ScreenPorch',\n",
    "             'PoolArea', 'MiscVal', 'SaleType', 'SaleCondition', 'MSZoning',\n",
    "             'Street', 'LotShape', 'LandContour', 'Utilities', 'LandSlope',\n",
    "             'Condition1', 'Condition2', 'BldgType', 'RoofMatl', 'MasVnrArea',\n",
    "             'ExterCond', 'Foundation', 'Heating'\n",
    "            ]"
   ]
  },
  {
   "cell_type": "code",
   "execution_count": 7,
   "id": "6c3b7b2a",
   "metadata": {},
   "outputs": [],
   "source": [
    "bsmt_columns =  [c for c in hse_df.columns if c[:4] in ['Bsmt'] and c not in[\n",
    "    'BsmtFullBath', 'BsmtFinSF1', 'BsmtFinType1', 'BsmtQual'\n",
    "]]\n",
    "drop_cols.extend(bsmt_columns)\n",
    "hse_df.drop(drop_cols, axis=1, inplace=True)"
   ]
  },
  {
   "cell_type": "code",
   "execution_count": 8,
   "id": "0ef242ee",
   "metadata": {},
   "outputs": [
    {
     "data": {
      "image/png": "[encoded data removed]",
      "text/plain": [
       "<Figure size 640x480 with 1 Axes>"
      ]
     },
     "metadata": {},
     "output_type": "display_data"
    }
   ],
   "source": [
    "# plotting a bar graph to show the pearson correlations of the remaining columns with our target column 'SalePrice'\n",
    "\n",
    "hse_df.corr(numeric_only=True).loc['SalePrice'][:-1].plot.barh()\n",
    "plt.show()"
   ]
  },
  {
   "cell_type": "markdown",
   "id": "f676ab53",
   "metadata": {},
   "source": [
    "\"\"\"\n",
    "    From the plot above we can see some features with very high correlation such \n",
    "    as 'OveralQual'. Some features also have negative correlation while some with \n",
    "    low correlation.\n",
    "\"\"\""
   ]
  },
  {
   "cell_type": "code",
   "execution_count": 9,
   "id": "e946f108",
   "metadata": {},
   "outputs": [
    {
     "name": "stdout",
     "output_type": "stream",
     "text": [
      "MSSubClass                              : -0.0796, significant:True\n",
      "LotArea                                 :  0.2548, significant:True\n",
      "OverallQual                             :  0.7835, significant:True\n",
      "OverallCond                             : -0.1086, significant:True\n",
      "YearBuilt                               :  0.5043, significant:True\n",
      "YearRemodAdd                            :  0.5014, significant:True\n",
      "BsmtFinSF1                              :  0.3597, significant:True\n",
      "TotalBsmtSF                             :  0.6020, significant:True\n",
      "1stFlrSF                                :  0.6047, significant:True\n",
      "2ndFlrSF                                :  0.3114, significant:True\n",
      "GrLivArea                               :  0.7117, significant:True\n",
      "BsmtFullBath                            :  0.2097, significant:True\n",
      "FullBath                                :  0.5693, significant:True\n",
      "HalfBath                                :  0.2582, significant:True\n",
      "BedroomAbvGr                            :  0.1693, significant:True\n",
      "TotRmsAbvGrd                            :  0.5518, significant:True\n",
      "GarageYrBlt                             :  0.4817, significant:True\n",
      "GarageCars                              :  0.6402, significant:True\n",
      "GarageArea                              :  0.6075, significant:True\n",
      "MoSold                                  :  0.0413, significant:False\n",
      "YrSold                                  : -0.0205, significant:False\n"
     ]
    }
   ],
   "source": [
    "# importing scipy library to perform statistics as as pvalue\n",
    "\n",
    "from scipy.stats import pearsonr\n",
    "from pandas.api.types import is_numeric_dtype\n",
    "\n",
    "# finding the pearson correlation and pvalue on numeric data only\n",
    "for c in hse_df.columns[:-1]:\n",
    "    if is_numeric_dtype(hse_df[c]):\n",
    "        corr, pvalue = pearsonr(hse_df[c], hse_df['SalePrice'])\n",
    "        print(f'{c : <40}: {corr : .4f}, significant:{pvalue <= 0.05}')"
   ]
  },
  {
   "cell_type": "code",
   "execution_count": 10,
   "id": "609d9b28",
   "metadata": {},
   "outputs": [],
   "source": [
    "# dropping the columns with low significance(pvalue) i.e. less than 0.05\n",
    "\n",
    "hse_df.drop(['MoSold', 'YrSold'], axis=1, inplace=True)"
   ]
  },
  {
   "cell_type": "markdown",
   "id": "f2416cc8",
   "metadata": {},
   "source": [
    "import phik\n",
    "\n",
    "phik_corr = []\n",
    "phik_signif = []\n",
    "y = hse_df['SalePrice']\n",
    "\n",
    "for c in hse_df.columns:\n",
    "    x = hse_df[c]\n",
    "    phik_corr.append(phik.phik_from_array(x, y))\n",
    "    phik_signif.append(phik.significance.significance_from_array(x, y)[0])"
   ]
  },
  {
   "cell_type": "code",
   "execution_count": 12,
   "id": "4c3f95a6",
   "metadata": {},
   "outputs": [
    {
     "data": {
      "text/html": [
       "<div>\n",
       "<style scoped>\n",
       "    .dataframe tbody tr th:only-of-type {\n",
       "        vertical-align: middle;\n",
       "    }\n",
       "\n",
       "    .dataframe tbody tr th {\n",
       "        vertical-align: top;\n",
       "    }\n",
       "\n",
       "    .dataframe thead th {\n",
       "        text-align: right;\n",
       "    }\n",
       "</style>\n",
       "<table border=\"1\" class=\"dataframe\">\n",
       "  <thead>\n",
       "    <tr style=\"text-align: right;\">\n",
       "      <th></th>\n",
       "      <th>MSSubClass</th>\n",
       "      <th>LotArea</th>\n",
       "      <th>LotConfig</th>\n",
       "      <th>Neighborhood</th>\n",
       "      <th>HouseStyle</th>\n",
       "      <th>OverallQual</th>\n",
       "      <th>OverallCond</th>\n",
       "      <th>YearBuilt</th>\n",
       "      <th>YearRemodAdd</th>\n",
       "      <th>RoofStyle</th>\n",
       "      <th>...</th>\n",
       "      <th>BedroomAbvGr</th>\n",
       "      <th>TotRmsAbvGrd</th>\n",
       "      <th>GarageType</th>\n",
       "      <th>GarageYrBlt</th>\n",
       "      <th>GarageFinish</th>\n",
       "      <th>GarageCars</th>\n",
       "      <th>GarageArea</th>\n",
       "      <th>GarageQual</th>\n",
       "      <th>GarageCond</th>\n",
       "      <th>SalePrice</th>\n",
       "    </tr>\n",
       "  </thead>\n",
       "  <tbody>\n",
       "    <tr>\n",
       "      <th>0</th>\n",
       "      <td>60</td>\n",
       "      <td>8450</td>\n",
       "      <td>4</td>\n",
       "      <td>5</td>\n",
       "      <td>5</td>\n",
       "      <td>7</td>\n",
       "      <td>5</td>\n",
       "      <td>2003</td>\n",
       "      <td>2003</td>\n",
       "      <td>1</td>\n",
       "      <td>...</td>\n",
       "      <td>3</td>\n",
       "      <td>8</td>\n",
       "      <td>1</td>\n",
       "      <td>2003.0</td>\n",
       "      <td>1</td>\n",
       "      <td>2</td>\n",
       "      <td>548</td>\n",
       "      <td>4</td>\n",
       "      <td>4</td>\n",
       "      <td>208500</td>\n",
       "    </tr>\n",
       "    <tr>\n",
       "      <th>1</th>\n",
       "      <td>20</td>\n",
       "      <td>9600</td>\n",
       "      <td>2</td>\n",
       "      <td>24</td>\n",
       "      <td>2</td>\n",
       "      <td>6</td>\n",
       "      <td>8</td>\n",
       "      <td>1976</td>\n",
       "      <td>1976</td>\n",
       "      <td>1</td>\n",
       "      <td>...</td>\n",
       "      <td>3</td>\n",
       "      <td>6</td>\n",
       "      <td>1</td>\n",
       "      <td>1976.0</td>\n",
       "      <td>1</td>\n",
       "      <td>2</td>\n",
       "      <td>460</td>\n",
       "      <td>4</td>\n",
       "      <td>4</td>\n",
       "      <td>181500</td>\n",
       "    </tr>\n",
       "    <tr>\n",
       "      <th>2</th>\n",
       "      <td>60</td>\n",
       "      <td>11250</td>\n",
       "      <td>4</td>\n",
       "      <td>5</td>\n",
       "      <td>5</td>\n",
       "      <td>7</td>\n",
       "      <td>5</td>\n",
       "      <td>2001</td>\n",
       "      <td>2002</td>\n",
       "      <td>1</td>\n",
       "      <td>...</td>\n",
       "      <td>3</td>\n",
       "      <td>6</td>\n",
       "      <td>1</td>\n",
       "      <td>2001.0</td>\n",
       "      <td>1</td>\n",
       "      <td>2</td>\n",
       "      <td>608</td>\n",
       "      <td>4</td>\n",
       "      <td>4</td>\n",
       "      <td>223500</td>\n",
       "    </tr>\n",
       "    <tr>\n",
       "      <th>3</th>\n",
       "      <td>70</td>\n",
       "      <td>9550</td>\n",
       "      <td>0</td>\n",
       "      <td>6</td>\n",
       "      <td>5</td>\n",
       "      <td>7</td>\n",
       "      <td>5</td>\n",
       "      <td>1915</td>\n",
       "      <td>1970</td>\n",
       "      <td>1</td>\n",
       "      <td>...</td>\n",
       "      <td>3</td>\n",
       "      <td>7</td>\n",
       "      <td>5</td>\n",
       "      <td>1998.0</td>\n",
       "      <td>2</td>\n",
       "      <td>3</td>\n",
       "      <td>642</td>\n",
       "      <td>4</td>\n",
       "      <td>4</td>\n",
       "      <td>140000</td>\n",
       "    </tr>\n",
       "    <tr>\n",
       "      <th>4</th>\n",
       "      <td>60</td>\n",
       "      <td>14260</td>\n",
       "      <td>2</td>\n",
       "      <td>15</td>\n",
       "      <td>5</td>\n",
       "      <td>8</td>\n",
       "      <td>5</td>\n",
       "      <td>2000</td>\n",
       "      <td>2000</td>\n",
       "      <td>1</td>\n",
       "      <td>...</td>\n",
       "      <td>4</td>\n",
       "      <td>9</td>\n",
       "      <td>1</td>\n",
       "      <td>2000.0</td>\n",
       "      <td>1</td>\n",
       "      <td>3</td>\n",
       "      <td>836</td>\n",
       "      <td>4</td>\n",
       "      <td>4</td>\n",
       "      <td>250000</td>\n",
       "    </tr>\n",
       "  </tbody>\n",
       "</table>\n",
       "<p>5 rows × 34 columns</p>\n",
       "</div>"
      ],
      "text/plain": [
       "   MSSubClass  LotArea  LotConfig  Neighborhood  HouseStyle  OverallQual  \\\n",
       "0          60     8450          4             5           5            7   \n",
       "1          20     9600          2            24           2            6   \n",
       "2          60    11250          4             5           5            7   \n",
       "3          70     9550          0             6           5            7   \n",
       "4          60    14260          2            15           5            8   \n",
       "\n",
       "   OverallCond  YearBuilt  YearRemodAdd  RoofStyle  ...  BedroomAbvGr  \\\n",
       "0            5       2003          2003          1  ...             3   \n",
       "1            8       1976          1976          1  ...             3   \n",
       "2            5       2001          2002          1  ...             3   \n",
       "3            5       1915          1970          1  ...             3   \n",
       "4            5       2000          2000          1  ...             4   \n",
       "\n",
       "   TotRmsAbvGrd  GarageType  GarageYrBlt  GarageFinish  GarageCars  \\\n",
       "0             8           1       2003.0             1           2   \n",
       "1             6           1       1976.0             1           2   \n",
       "2             6           1       2001.0             1           2   \n",
       "3             7           5       1998.0             2           3   \n",
       "4             9           1       2000.0             1           3   \n",
       "\n",
       "   GarageArea  GarageQual  GarageCond  SalePrice  \n",
       "0         548           4           4     208500  \n",
       "1         460           4           4     181500  \n",
       "2         608           4           4     223500  \n",
       "3         642           4           4     140000  \n",
       "4         836           4           4     250000  \n",
       "\n",
       "[5 rows x 34 columns]"
      ]
     },
     "execution_count": 12,
     "metadata": {},
     "output_type": "execute_result"
    }
   ],
   "source": [
    "# importing the library for further feature engineering i.e. convert non_numeric data\n",
    "# to numeric\n",
    "from sklearn.preprocessing import LabelEncoder\n",
    "\n",
    "le = LabelEncoder()\n",
    "numeric_cols = hse_df.select_dtypes(include=np.number)\n",
    "\n",
    "for c in hse_df.columns:\n",
    "    if c not in numeric_cols:\n",
    "        hse_df[c] = le.fit_transform(hse_df[c])\n",
    "\n",
    "hse_df.head()"
   ]
  },
  {
   "cell_type": "code",
   "execution_count": 21,
   "id": "3e5d27da",
   "metadata": {},
   "outputs": [],
   "source": [
    "# importing feature_selection to select 10 best features\n",
    "from sklearn.feature_selection import SelectKBest\n",
    "from sklearn.feature_selection import f_classif\n",
    "\n",
    "k_best = SelectKBest(f_classif, k=10).fit_transform(hse_df.drop('SalePrice', axis=1), hse_df['SalePrice'])\n",
    "idx = k_best[0].argsort()[::-1]\n",
    "hse_new_df = hse_df.iloc[:, idx]"
   ]
  },
  {
   "cell_type": "code",
   "execution_count": 24,
   "id": "fee165ab",
   "metadata": {},
   "outputs": [
    {
     "name": "stdout",
     "output_type": "stream",
     "text": [
      "<class 'pandas.core.frame.DataFrame'>\n",
      "Index: 1338 entries, 0 to 1459\n",
      "Data columns (total 11 columns):\n",
      " #   Column        Non-Null Count  Dtype\n",
      "---  ------        --------------  -----\n",
      " 0   MSSubClass    1338 non-null   int64\n",
      " 1   LotConfig     1338 non-null   int32\n",
      " 2   OverallCond   1338 non-null   int64\n",
      " 3   OverallQual   1338 non-null   int64\n",
      " 4   RoofStyle     1338 non-null   int32\n",
      " 5   LotArea       1338 non-null   int64\n",
      " 6   YearRemodAdd  1338 non-null   int64\n",
      " 7   YearBuilt     1338 non-null   int64\n",
      " 8   HouseStyle    1338 non-null   int32\n",
      " 9   Neighborhood  1338 non-null   int32\n",
      " 10  SalePrice     1338 non-null   int64\n",
      "dtypes: int32(4), int64(7)\n",
      "memory usage: 104.5 KB\n"
     ]
    },
    {
     "name": "stderr",
     "output_type": "stream",
     "text": [
      "C:\\Users\\HP 820 G3\\AppData\\Local\\Temp\\ipykernel_24832\\2561714685.py:1: SettingWithCopyWarning: \n",
      "A value is trying to be set on a copy of a slice from a DataFrame.\n",
      "Try using .loc[row_indexer,col_indexer] = value instead\n",
      "\n",
      "See the caveats in the documentation: https://pandas.pydata.org/pandas-docs/stable/user_guide/indexing.html#returning-a-view-versus-a-copy\n",
      "  hse_new_df['SalePrice'] = hse_df['SalePrice']\n"
     ]
    }
   ],
   "source": [
    "# including the target feature 'SalePrice' to the dataframe\n",
    "\n",
    "hse_new_df['SalePrice'] = hse_df['SalePrice']\n",
    "hse_new_df.info()"
   ]
  },
  {
   "cell_type": "code",
   "execution_count": 25,
   "id": "9aa49418",
   "metadata": {},
   "outputs": [],
   "source": [
    "# importing linear regression libraries\n",
    "from sklearn.linear_model import LinearRegression\n",
    "from sklearn.model_selection import train_test_split\n",
    "\n",
    "# splitting the data into training and testing data\n",
    "x_train, x_test, y_train, y_test = train_test_split(hse_new_df.drop('SalePrice', axis=1), hse_new_df['SalePrice'], random_state=42)\n"
   ]
  },
  {
   "cell_type": "code",
   "execution_count": 27,
   "id": "d56e2e12",
   "metadata": {},
   "outputs": [
    {
     "name": "stdout",
     "output_type": "stream",
     "text": [
      "0.679057933325494\n",
      "0.6637490107943302\n"
     ]
    }
   ],
   "source": [
    "# training the linear regression model\n",
    "\n",
    "lr = LinearRegression()\n",
    "lr.fit(x_train, y_train)\n",
    "\n",
    "# checking the metrics/scores for training and testing data\n",
    "print(lr.score(x_train, y_train))\n",
    "print(lr.score(x_test, y_test))"
   ]
  },
  {
   "cell_type": "code",
   "execution_count": 28,
   "id": "598ae8b2",
   "metadata": {},
   "outputs": [
    {
     "name": "stdout",
     "output_type": "stream",
     "text": [
      "[-1.73671744e+02 -1.25125914e+03  1.87492469e+03  4.08869256e+04\n",
      "  8.83928733e+03  1.38383681e+00  2.75993218e+02  2.06276755e+02\n",
      "  1.64678747e+03  5.47420641e+02]\n",
      "-1057076.0729644026\n"
     ]
    }
   ],
   "source": [
    "# finding the coefficient and   intercept of the model\n",
    "\n",
    "print(lr.coef_)\n",
    "print(lr.intercept_)"
   ]
  },
  {
   "cell_type": "code",
   "execution_count": 54,
   "id": "0961d010",
   "metadata": {},
   "outputs": [
    {
     "data": {
      "text/html": [
       "<style>#sk-container-id-1 {color: black;background-color: white;}#sk-container-id-1 pre{padding: 0;}#sk-container-id-1 div.sk-toggleable {background-color: white;}#sk-container-id-1 label.sk-toggleable__label {cursor: pointer;display: block;width: 100%;margin-bottom: 0;padding: 0.3em;box-sizing: border-box;text-align: center;}#sk-container-id-1 label.sk-toggleable__label-arrow:before {content: \"▸\";float: left;margin-right: 0.25em;color: #696969;}#sk-container-id-1 label.sk-toggleable__label-arrow:hover:before {color: black;}#sk-container-id-1 div.sk-estimator:hover label.sk-toggleable__label-arrow:before {color: black;}#sk-container-id-1 div.sk-toggleable__content {max-height: 0;max-width: 0;overflow: hidden;text-align: left;background-color: #f0f8ff;}#sk-container-id-1 div.sk-toggleable__content pre {margin: 0.2em;color: black;border-radius: 0.25em;background-color: #f0f8ff;}#sk-container-id-1 input.sk-toggleable__control:checked~div.sk-toggleable__content {max-height: 200px;max-width: 100%;overflow: auto;}#sk-container-id-1 input.sk-toggleable__control:checked~label.sk-toggleable__label-arrow:before {content: \"▾\";}#sk-container-id-1 div.sk-estimator input.sk-toggleable__control:checked~label.sk-toggleable__label {background-color: #d4ebff;}#sk-container-id-1 div.sk-label input.sk-toggleable__control:checked~label.sk-toggleable__label {background-color: #d4ebff;}#sk-container-id-1 input.sk-hidden--visually {border: 0;clip: rect(1px 1px 1px 1px);clip: rect(1px, 1px, 1px, 1px);height: 1px;margin: -1px;overflow: hidden;padding: 0;position: absolute;width: 1px;}#sk-container-id-1 div.sk-estimator {font-family: monospace;background-color: #f0f8ff;border: 1px dotted black;border-radius: 0.25em;box-sizing: border-box;margin-bottom: 0.5em;}#sk-container-id-1 div.sk-estimator:hover {background-color: #d4ebff;}#sk-container-id-1 div.sk-parallel-item::after {content: \"\";width: 100%;border-bottom: 1px solid gray;flex-grow: 1;}#sk-container-id-1 div.sk-label:hover label.sk-toggleable__label {background-color: #d4ebff;}#sk-container-id-1 div.sk-serial::before {content: \"\";position: absolute;border-left: 1px solid gray;box-sizing: border-box;top: 0;bottom: 0;left: 50%;z-index: 0;}#sk-container-id-1 div.sk-serial {display: flex;flex-direction: column;align-items: center;background-color: white;padding-right: 0.2em;padding-left: 0.2em;position: relative;}#sk-container-id-1 div.sk-item {position: relative;z-index: 1;}#sk-container-id-1 div.sk-parallel {display: flex;align-items: stretch;justify-content: center;background-color: white;position: relative;}#sk-container-id-1 div.sk-item::before, #sk-container-id-1 div.sk-parallel-item::before {content: \"\";position: absolute;border-left: 1px solid gray;box-sizing: border-box;top: 0;bottom: 0;left: 50%;z-index: -1;}#sk-container-id-1 div.sk-parallel-item {display: flex;flex-direction: column;z-index: 1;position: relative;background-color: white;}#sk-container-id-1 div.sk-parallel-item:first-child::after {align-self: flex-end;width: 50%;}#sk-container-id-1 div.sk-parallel-item:last-child::after {align-self: flex-start;width: 50%;}#sk-container-id-1 div.sk-parallel-item:only-child::after {width: 0;}#sk-container-id-1 div.sk-dashed-wrapped {border: 1px dashed gray;margin: 0 0.4em 0.5em 0.4em;box-sizing: border-box;padding-bottom: 0.4em;background-color: white;}#sk-container-id-1 div.sk-label label {font-family: monospace;font-weight: bold;display: inline-block;line-height: 1.2em;}#sk-container-id-1 div.sk-label-container {text-align: center;}#sk-container-id-1 div.sk-container {/* jupyter's `normalize.less` sets `[hidden] { display: none; }` but bootstrap.min.css set `[hidden] { display: none !important; }` so we also need the `!important` here to be able to override the default hidden behavior on the sphinx rendered scikit-learn.org. See: https://github.com/scikit-learn/scikit-learn/issues/21755 */display: inline-block !important;position: relative;}#sk-container-id-1 div.sk-text-repr-fallback {display: none;}</style><div id=\"sk-container-id-1\" class=\"sk-top-container\"><div class=\"sk-text-repr-fallback\"><pre>LassoCV()</pre><b>In a Jupyter environment, please rerun this cell to show the HTML representation or trust the notebook. <br />On GitHub, the HTML representation is unable to render, please try loading this page with nbviewer.org.</b></div><div class=\"sk-container\" hidden><div class=\"sk-item\"><div class=\"sk-estimator sk-toggleable\"><input class=\"sk-toggleable__control sk-hidden--visually\" id=\"sk-estimator-id-1\" type=\"checkbox\" checked><label for=\"sk-estimator-id-1\" class=\"sk-toggleable__label sk-toggleable__label-arrow\">LassoCV</label><div class=\"sk-toggleable__content\"><pre>LassoCV()</pre></div></div></div></div></div>"
      ],
      "text/plain": [
       "LassoCV()"
      ]
     },
     "execution_count": 54,
     "metadata": {},
     "output_type": "execute_result"
    }
   ],
   "source": [
    "from sklearn.linear_model import LassoCV\n",
    "\n",
    "lr_l1 = LassoCV()\n",
    "lr_l1.fit(x_train, y_train)"
   ]
  },
  {
   "cell_type": "code",
   "execution_count": 55,
   "id": "69200364",
   "metadata": {},
   "outputs": [
    {
     "data": {
      "text/plain": [
       "array([  0.        ,  79.48110665,   0.        ,  64.43501997,\n",
       "        16.30740924,  28.02437389,   0.        ,  -0.        ,\n",
       "       677.83514321])"
      ]
     },
     "execution_count": 55,
     "metadata": {},
     "output_type": "execute_result"
    }
   ],
   "source": [
    "lr_l1.coef_"
   ]
  },
  {
   "cell_type": "code",
   "execution_count": 57,
   "id": "53124851",
   "metadata": {},
   "outputs": [
    {
     "data": {
      "text/plain": [
       "0.7199450090072868"
      ]
     },
     "execution_count": 57,
     "metadata": {},
     "output_type": "execute_result"
    }
   ],
   "source": [
    "lr_l1.score(x_train, y_train)"
   ]
  },
  {
   "cell_type": "code",
   "execution_count": 59,
   "id": "ae34090d",
   "metadata": {},
   "outputs": [
    {
     "name": "stdout",
     "output_type": "stream",
     "text": [
      "0.7785164519521838\n",
      "0.6564647112126278\n"
     ]
    }
   ],
   "source": [
    "# tuning the model\n",
    "\n",
    "from sklearn.linear_model import ElasticNetCV\n",
    "\n",
    "lr_en = ElasticNetCV(l1_ratio=[.1,.3,.5,.7,.9,1])\n",
    "lr_en.fit(x_train, y_train)\n",
    "print(lr.score(x_train, y_train))\n",
    "print(lr.score(x_test, y_test))"
   ]
  },
  {
   "cell_type": "markdown",
   "id": "da88c9d5",
   "metadata": {},
   "source": [
    "### After tuning the model the score in the test dataset is 0.65. The score is not quite high but can be still improved by feature selection or engineering."
   ]
  }
 ],
 "metadata": {
  "kernelspec": {
   "display_name": "venv_py39",
   "language": "python",
   "name": "venv_py39"
  },
  "language_info": {
   "codemirror_mode": {
    "name": "ipython",
    "version": 3
   },
   "file_extension": ".py",
   "mimetype": "text/x-python",
   "name": "python",
   "nbconvert_exporter": "python",
   "pygments_lexer": "ipython3",
   "version": "3.9.16"
  },
  "varInspector": {
   "cols": {
    "lenName": 16,
    "lenType": 16,
    "lenVar": 40
   },
   "kernels_config": {
    "python": {
     "delete_cmd_postfix": "",
     "delete_cmd_prefix": "del ",
     "library": "var_list.py",
     "varRefreshCmd": "print(var_dic_list())"
    },
    "r": {
     "delete_cmd_postfix": ") ",
     "delete_cmd_prefix": "rm(",
     "library": "var_list.r",
     "varRefreshCmd": "cat(var_dic_list()) "
    }
   },
   "types_to_exclude": [
    "module",
    "function",
    "builtin_function_or_method",
    "instance",
    "_Feature"
   ],
   "window_display": false
  }
 },
 "nbformat": 4,
 "nbformat_minor": 5
}
